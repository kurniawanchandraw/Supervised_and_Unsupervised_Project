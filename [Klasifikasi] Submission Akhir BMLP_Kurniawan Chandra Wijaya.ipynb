{
  "cells": [
    {
      "cell_type": "markdown",
      "metadata": {
        "id": "fKADPWcFKlj3"
      },
      "source": [
        "# **1. Import Library**"
      ]
    },
    {
      "cell_type": "markdown",
      "metadata": {
        "id": "LgA3ERnVn84N"
      },
      "source": [
        "Pada tahap ini, Anda perlu mengimpor beberapa pustaka (library) Python yang dibutuhkan untuk analisis data dan pembangunan model machine learning."
      ]
    },
    {
      "cell_type": "code",
      "execution_count": 104,
      "metadata": {
        "id": "BlmvjLY9M4Yj"
      },
      "outputs": [],
      "source": [
        "import pandas as pd\n",
        "import numpy as np\n",
        "import matplotlib.pyplot as plt\n",
        "import seaborn as sns\n",
        "import prince\n",
        "\n",
        "from sklearn.model_selection import GridSearchCV, train_test_split\n",
        "from sklearn.preprocessing import StandardScaler, MinMaxScaler, RobustScaler, OneHotEncoder, LabelEncoder\n",
        "from sklearn.compose import ColumnTransformer\n",
        "from sklearn.pipeline import Pipeline\n",
        "from sklearn.ensemble import RandomForestClassifier\n",
        "from sklearn.svm import SVC\n",
        "from sklearn.linear_model import LogisticRegression\n",
        "from xgboost import XGBClassifier\n",
        "from catboost import CatBoostClassifier\n",
        "from sklearn.neighbors import KNeighborsClassifier\n",
        "from sklearn.naive_bayes import GaussianNB\n",
        "from sklearn.tree import DecisionTreeClassifier\n",
        "from sklearn.metrics import f1_score, accuracy_score, classification_report, confusion_matrix\n",
        "from sklearn.utils.class_weight import compute_class_weight\n",
        "from imblearn.over_sampling import SMOTE\n",
        "from imblearn.under_sampling import TomekLinks\n",
        "from imblearn.pipeline import Pipeline as ImbPipeline\n",
        "\n",
        "import warnings\n",
        "warnings.filterwarnings(\"ignore\")"
      ]
    },
    {
      "cell_type": "markdown",
      "metadata": {
        "id": "f3YIEnAFKrKL"
      },
      "source": [
        "# **2. Memuat Dataset dari Hasil Clustering**"
      ]
    },
    {
      "cell_type": "markdown",
      "metadata": {
        "id": "Ey3ItwTen_7E"
      },
      "source": [
        "Memuat dataset hasil clustering dari file CSV ke dalam variabel DataFrame."
      ]
    },
    {
      "cell_type": "code",
      "execution_count": 105,
      "metadata": {
        "id": "GHCGNTyrM5fS"
      },
      "outputs": [
        {
          "data": {
            "text/html": [
              "<div>\n",
              "<style scoped>\n",
              "    .dataframe tbody tr th:only-of-type {\n",
              "        vertical-align: middle;\n",
              "    }\n",
              "\n",
              "    .dataframe tbody tr th {\n",
              "        vertical-align: top;\n",
              "    }\n",
              "\n",
              "    .dataframe thead th {\n",
              "        text-align: right;\n",
              "    }\n",
              "</style>\n",
              "<table border=\"1\" class=\"dataframe\">\n",
              "  <thead>\n",
              "    <tr style=\"text-align: right;\">\n",
              "      <th></th>\n",
              "      <th>Unnamed: 0</th>\n",
              "      <th>TransactionAmount</th>\n",
              "      <th>TransactionAmountRelativeToBalance</th>\n",
              "      <th>AccountBalance</th>\n",
              "      <th>LoginAttempts</th>\n",
              "      <th>CustomerOccupation</th>\n",
              "      <th>FAMD_1</th>\n",
              "      <th>FAMD_2</th>\n",
              "      <th>KMeans_Cluster</th>\n",
              "      <th>GMM_Cluster</th>\n",
              "      <th>Agglomerative_Cluster</th>\n",
              "    </tr>\n",
              "  </thead>\n",
              "  <tbody>\n",
              "    <tr>\n",
              "      <th>0</th>\n",
              "      <td>0</td>\n",
              "      <td>-0.855820</td>\n",
              "      <td>-0.334233</td>\n",
              "      <td>-0.888266</td>\n",
              "      <td>-0.206794</td>\n",
              "      <td>Doctor</td>\n",
              "      <td>-0.230694</td>\n",
              "      <td>-0.458759</td>\n",
              "      <td>0</td>\n",
              "      <td>1</td>\n",
              "      <td>0</td>\n",
              "    </tr>\n",
              "    <tr>\n",
              "      <th>1</th>\n",
              "      <td>1</td>\n",
              "      <td>-0.289919</td>\n",
              "      <td>-0.291284</td>\n",
              "      <td>-0.239452</td>\n",
              "      <td>-0.206794</td>\n",
              "      <td>Doctor</td>\n",
              "      <td>-0.222465</td>\n",
              "      <td>-0.323291</td>\n",
              "      <td>0</td>\n",
              "      <td>1</td>\n",
              "      <td>0</td>\n",
              "    </tr>\n",
              "    <tr>\n",
              "      <th>2</th>\n",
              "      <td>2</td>\n",
              "      <td>0.614606</td>\n",
              "      <td>0.416503</td>\n",
              "      <td>-1.015296</td>\n",
              "      <td>-0.206794</td>\n",
              "      <td>Student</td>\n",
              "      <td>1.096156</td>\n",
              "      <td>-0.151834</td>\n",
              "      <td>0</td>\n",
              "      <td>1</td>\n",
              "      <td>0</td>\n",
              "    </tr>\n",
              "    <tr>\n",
              "      <th>3</th>\n",
              "      <td>3</td>\n",
              "      <td>-0.816319</td>\n",
              "      <td>-0.370676</td>\n",
              "      <td>0.163220</td>\n",
              "      <td>-0.206794</td>\n",
              "      <td>Student</td>\n",
              "      <td>-0.802282</td>\n",
              "      <td>-0.211974</td>\n",
              "      <td>0</td>\n",
              "      <td>1</td>\n",
              "      <td>0</td>\n",
              "    </tr>\n",
              "    <tr>\n",
              "      <th>4</th>\n",
              "      <td>4</td>\n",
              "      <td>-0.976312</td>\n",
              "      <td>-0.386991</td>\n",
              "      <td>0.334900</td>\n",
              "      <td>-0.206794</td>\n",
              "      <td>Student</td>\n",
              "      <td>-0.981635</td>\n",
              "      <td>-0.211928</td>\n",
              "      <td>0</td>\n",
              "      <td>1</td>\n",
              "      <td>0</td>\n",
              "    </tr>\n",
              "  </tbody>\n",
              "</table>\n",
              "</div>"
            ],
            "text/plain": [
              "   Unnamed: 0  TransactionAmount  TransactionAmountRelativeToBalance  \\\n",
              "0           0          -0.855820                           -0.334233   \n",
              "1           1          -0.289919                           -0.291284   \n",
              "2           2           0.614606                            0.416503   \n",
              "3           3          -0.816319                           -0.370676   \n",
              "4           4          -0.976312                           -0.386991   \n",
              "\n",
              "   AccountBalance  LoginAttempts CustomerOccupation    FAMD_1    FAMD_2  \\\n",
              "0       -0.888266      -0.206794             Doctor -0.230694 -0.458759   \n",
              "1       -0.239452      -0.206794             Doctor -0.222465 -0.323291   \n",
              "2       -1.015296      -0.206794            Student  1.096156 -0.151834   \n",
              "3        0.163220      -0.206794            Student -0.802282 -0.211974   \n",
              "4        0.334900      -0.206794            Student -0.981635 -0.211928   \n",
              "\n",
              "   KMeans_Cluster  GMM_Cluster  Agglomerative_Cluster  \n",
              "0               0            1                      0  \n",
              "1               0            1                      0  \n",
              "2               0            1                      0  \n",
              "3               0            1                      0  \n",
              "4               0            1                      0  "
            ]
          },
          "execution_count": 105,
          "metadata": {},
          "output_type": "execute_result"
        }
      ],
      "source": [
        "data = pd.read_csv('https://github.com/kurniawanchandraw/Supervised_and_Unsupervised_Project/raw/refs/heads/main/Dataset_clustering.csv')\n",
        "data.head()"
      ]
    },
    {
      "cell_type": "code",
      "execution_count": 106,
      "metadata": {},
      "outputs": [],
      "source": [
        "data.set_index('Unnamed: 0', inplace=True)\n",
        "data.rename(columns={'GMM_Cluster': 'Cluster'}, inplace=True)"
      ]
    },
    {
      "cell_type": "markdown",
      "metadata": {},
      "source": [
        "Mengambil kolom reduksi dimensi, yaitu `FAMD_1` dan `FAMD_2`."
      ]
    },
    {
      "cell_type": "code",
      "execution_count": 107,
      "metadata": {},
      "outputs": [],
      "source": [
        "data = data[['FAMD_1', 'FAMD_2', 'Cluster']]"
      ]
    },
    {
      "cell_type": "code",
      "execution_count": 108,
      "metadata": {},
      "outputs": [
        {
          "name": "stdout",
          "output_type": "stream",
          "text": [
            "<class 'pandas.core.frame.DataFrame'>\n",
            "Index: 2511 entries, 0 to 2511\n",
            "Data columns (total 3 columns):\n",
            " #   Column   Non-Null Count  Dtype  \n",
            "---  ------   --------------  -----  \n",
            " 0   FAMD_1   2511 non-null   float64\n",
            " 1   FAMD_2   2511 non-null   float64\n",
            " 2   Cluster  2511 non-null   int64  \n",
            "dtypes: float64(2), int64(1)\n",
            "memory usage: 78.5 KB\n"
          ]
        }
      ],
      "source": [
        "data.info()"
      ]
    },
    {
      "cell_type": "markdown",
      "metadata": {
        "id": "KkPem5eWL2UP"
      },
      "source": [
        "# **3. Data Splitting**"
      ]
    },
    {
      "cell_type": "markdown",
      "metadata": {
        "id": "YYj1rl_JNI9Y"
      },
      "source": [
        "Tahap Data Splitting bertujuan untuk memisahkan dataset menjadi dua bagian: data latih (training set) dan data uji (test set)."
      ]
    },
    {
      "cell_type": "code",
      "execution_count": 109,
      "metadata": {
        "id": "OubAW-7ONKVj"
      },
      "outputs": [],
      "source": [
        "X = data.drop(columns=['Cluster'])\n",
        "y = data['Cluster']\n",
        "X_train, X_test, y_train, y_test = train_test_split(X, y, test_size=0.2, random_state=42)"
      ]
    },
    {
      "cell_type": "code",
      "execution_count": 110,
      "metadata": {},
      "outputs": [],
      "source": [
        "oversample = TomekLinks()\n",
        "model_pipeline = ImbPipeline(steps=[\n",
        "    ('sampling', oversample),\n",
        "    ('classifier', RandomForestClassifier(random_state=42))\n",
        "])"
      ]
    },
    {
      "cell_type": "markdown",
      "metadata": {
        "id": "IVPbB03CMhTT"
      },
      "source": [
        "# **4. Membangun Model Klasifikasi**\n"
      ]
    },
    {
      "cell_type": "markdown",
      "metadata": {
        "id": "Ned1pL9zMmBK"
      },
      "source": [
        "## **a. Membangun Model Klasifikasi**"
      ]
    },
    {
      "cell_type": "markdown",
      "metadata": {
        "id": "WAWzPOE4Nkti"
      },
      "source": [
        "Setelah memilih algoritma klasifikasi yang sesuai, langkah selanjutnya adalah melatih model menggunakan data latih."
      ]
    },
    {
      "cell_type": "code",
      "execution_count": 119,
      "metadata": {
        "id": "4JYxBe87NLDk"
      },
      "outputs": [],
      "source": [
        "param_grid = {\n",
        "    # Optimasi teknik untuk menangani class imbalance\n",
        "    'sampling': [SMOTE(random_state=42), TomekLinks()],\n",
        "    \n",
        "    # Mencari model terbaik\n",
        "    'classifier': [\n",
        "        RandomForestClassifier(random_state=42),\n",
        "        SVC(random_state=42),\n",
        "        LogisticRegression(random_state=42),\n",
        "        KNeighborsClassifier(),\n",
        "        GaussianNB(),\n",
        "        DecisionTreeClassifier(random_state=42)\n",
        "    ]\n",
        "}"
      ]
    },
    {
      "cell_type": "code",
      "execution_count": 120,
      "metadata": {},
      "outputs": [
        {
          "name": "stdout",
          "output_type": "stream",
          "text": [
            "Best parameters: {'classifier': KNeighborsClassifier(), 'sampling': SMOTE(random_state=42)}\n",
            "Best cross-validation F1-Score: 1.0\n"
          ]
        }
      ],
      "source": [
        "# GridSearchCV untuk mencari kombinasi parameter terbaik\n",
        "grid_search = GridSearchCV(model_pipeline, param_grid, cv=5, n_jobs=-1, scoring='f1_macro')\n",
        "grid_search.fit(X_train, y_train)\n",
        "\n",
        "# Menampilkan parameter terbaik\n",
        "print(f\"Best parameters: {grid_search.best_params_}\")\n",
        "print(f\"Best cross-validation F1-Score: {grid_search.best_score_}\")"
      ]
    },
    {
      "cell_type": "markdown",
      "metadata": {
        "id": "seYoHNY3XU1y"
      },
      "source": [
        "Pipeline menggabungkan seluruh proses dari preprocessing hingga model training dalam satu urutan:\n",
        "1. Imbalance Sampling (misal SMOTE) untuk mengatasi imbalance data.\n",
        "2. Model (misal SVC) dilatih setelah data diproses.\n",
        "3. Evaluasi menggunakan F1-Score Macro untuk menilai kinerja model.\n",
        "\n",
        "GridSearchCV mengoptimalkan seluruh pipeline, mencari kombinasi terbaik model dan imbalance handling untuk mendapatkan performa terbaik (berdasarkan F1-Score). Pencarian ini dilakukan di seluruh ruang parameter yang ditentukan. Didapatkan model terbaik berdasarkan GridSearchCV adlaah model $k$-Nearest Neighbor dengan *macro* $F_1$-*score* yang sempurna. Hal ini mengindikasikan adanya *overfitting* secara konteks data. *Overfitting* ini sangat mungkin untuk terjadi karena fitur-fitur yang digunakan dalam pembentukan klaster adalah `FAMD_1` dan `FAMD_2` itu sendiri."
      ]
    },
    {
      "cell_type": "markdown",
      "metadata": {
        "id": "ergzChZFEL-O"
      },
      "source": [
        "## **b. Evaluasi Model Klasifikasi**"
      ]
    },
    {
      "cell_type": "code",
      "execution_count": 116,
      "metadata": {
        "id": "tMq4QAssNLip"
      },
      "outputs": [
        {
          "name": "stdout",
          "output_type": "stream",
          "text": [
            "Best F1 Score on Test Data: 1.0000\n",
            "Best Accuracy on Test Data: 1.0000\n"
          ]
        }
      ],
      "source": [
        "# Evaluasi pada data test\n",
        "y_pred_best = grid_search.best_estimator_.predict(X_test)\n",
        "\n",
        "# Metrik Evaluasi: F1-Score\n",
        "f1_best = f1_score(y_test, y_pred_best, average='macro')\n",
        "# Metrik Evaluasi: Akurasi\n",
        "accuracy_best = accuracy_score(y_test, y_pred_best)\n",
        "print(f'Best F1 Score on Test Data: {f1_best:.4f}')\n",
        "print(f'Best Accuracy on Test Data: {accuracy_best:.4f}')"
      ]
    },
    {
      "cell_type": "code",
      "execution_count": 117,
      "metadata": {},
      "outputs": [
        {
          "name": "stdout",
          "output_type": "stream",
          "text": [
            "              precision    recall  f1-score   support\n",
            "\n",
            "           0       1.00      1.00      1.00        26\n",
            "           1       1.00      1.00      1.00       477\n",
            "\n",
            "    accuracy                           1.00       503\n",
            "   macro avg       1.00      1.00      1.00       503\n",
            "weighted avg       1.00      1.00      1.00       503\n",
            "\n"
          ]
        }
      ],
      "source": [
        "# Get classification report\n",
        "print(classification_report(y_test, y_pred_best))"
      ]
    },
    {
      "cell_type": "code",
      "execution_count": 118,
      "metadata": {},
      "outputs": [
        {
          "data": {
            "image/png": "[encoded data removed]",
            "text/plain": [
              "<Figure size 1000x700 with 2 Axes>"
            ]
          },
          "metadata": {},
          "output_type": "display_data"
        }
      ],
      "source": [
        "cm = confusion_matrix(y_test, y_pred_best)\n",
        "plt.figure(figsize=(10, 7))\n",
        "sns.heatmap(cm, annot=True, fmt='d', cmap='Blues', xticklabels=np.unique(y), yticklabels=np.unique(y))\n",
        "plt.xlabel('Predicted')\n",
        "plt.ylabel('True')\n",
        "plt.title('Confusion Matrix')\n",
        "\n",
        "plt.show()"
      ]
    },
    {
      "cell_type": "markdown",
      "metadata": {
        "id": "H4_9OwrsXZlz"
      },
      "source": [
        "Model $k$-Nearest Neighbor memberikan prediksi yang sempurna pada data latih. Confusion matrix di atas menunjukkan hasil prediksi model pada data uji, di mana terdapat dua kelas: kelas 0 dan kelas 1. Berdasarkan matriks tersebut:\n",
        "\n",
        "- True Negatives (TN): 26, yang berarti ada 26 sampel yang sebenarnya termasuk kelas 0, dan model memprediksinya dengan benar sebagai kelas 0.\n",
        "- False Positives (FP): 0, yang berarti tidak ada sampel kelas 0 yang diprediksi sebagai kelas 1.\n",
        "- False Negatives (FN): 0, yang berarti tidak ada sampel kelas 1 yang diprediksi sebagai kelas 0.\n",
        "- True Positives (TP): 477, yang berarti ada 477 sampel kelas 1 yang diprediksi dengan benar sebagai kelas 1"
      ]
    },
    {
      "cell_type": "markdown",
      "metadata": {},
      "source": [
        "Selanjutnya, akan dibandingkan hasilnya dengan model lain di luar pipeline scikit-learn, yaitu XGBoost dan CatBoost:"
      ]
    },
    {
      "cell_type": "markdown",
      "metadata": {},
      "source": [
        "**Model XGBoost:**"
      ]
    },
    {
      "cell_type": "code",
      "execution_count": 121,
      "metadata": {},
      "outputs": [
        {
          "data": {
            "text/plain": [
              "{'0': {'precision': 1.0, 'recall': 1.0, 'f1-score': 1.0, 'support': 26.0},\n",
              " '1': {'precision': 1.0, 'recall': 1.0, 'f1-score': 1.0, 'support': 477.0},\n",
              " 'accuracy': 1.0,\n",
              " 'macro avg': {'precision': 1.0,\n",
              "  'recall': 1.0,\n",
              "  'f1-score': 1.0,\n",
              "  'support': 503.0},\n",
              " 'weighted avg': {'precision': 1.0,\n",
              "  'recall': 1.0,\n",
              "  'f1-score': 1.0,\n",
              "  'support': 503.0}}"
            ]
          },
          "execution_count": 121,
          "metadata": {},
          "output_type": "execute_result"
        }
      ],
      "source": [
        "smote = SMOTE(random_state=42)\n",
        "X_resampled, y_resampled = smote.fit_resample(X_train, y_train) \n",
        "\n",
        "xgb_model = XGBClassifier(random_state=42)\n",
        "xgb_model.fit(X_resampled, y_resampled)\n",
        "\n",
        "y_pred2 = xgb_model.predict(X_test)\n",
        "report_xgb = classification_report(y_test, y_pred2, output_dict=True)\n",
        "report_xgb"
      ]
    },
    {
      "cell_type": "markdown",
      "metadata": {},
      "source": [
        "**CatBoost**"
      ]
    },
    {
      "cell_type": "code",
      "execution_count": 122,
      "metadata": {},
      "outputs": [
        {
          "data": {
            "text/plain": [
              "{'0': {'precision': 1.0, 'recall': 1.0, 'f1-score': 1.0, 'support': 26.0},\n",
              " '1': {'precision': 1.0, 'recall': 1.0, 'f1-score': 1.0, 'support': 477.0},\n",
              " 'accuracy': 1.0,\n",
              " 'macro avg': {'precision': 1.0,\n",
              "  'recall': 1.0,\n",
              "  'f1-score': 1.0,\n",
              "  'support': 503.0},\n",
              " 'weighted avg': {'precision': 1.0,\n",
              "  'recall': 1.0,\n",
              "  'f1-score': 1.0,\n",
              "  'support': 503.0}}"
            ]
          },
          "execution_count": 122,
          "metadata": {},
          "output_type": "execute_result"
        }
      ],
      "source": [
        "catboost_model = CatBoostClassifier(random_state=42, verbose=0)\n",
        "catboost_model.fit(X_resampled, y_resampled)\n",
        "\n",
        "y_pred2 = catboost_model.predict(X_test)\n",
        "\n",
        "report_catboost = classification_report(y_test, y_pred2, output_dict=True)\n",
        "report_catboost"
      ]
    },
    {
      "cell_type": "markdown",
      "metadata": {},
      "source": [
        "Perbandingan Model:"
      ]
    },
    {
      "cell_type": "code",
      "execution_count": 123,
      "metadata": {},
      "outputs": [
        {
          "data": {
            "text/html": [
              "<div>\n",
              "<style scoped>\n",
              "    .dataframe tbody tr th:only-of-type {\n",
              "        vertical-align: middle;\n",
              "    }\n",
              "\n",
              "    .dataframe tbody tr th {\n",
              "        vertical-align: top;\n",
              "    }\n",
              "\n",
              "    .dataframe thead th {\n",
              "        text-align: right;\n",
              "    }\n",
              "</style>\n",
              "<table border=\"1\" class=\"dataframe\">\n",
              "  <thead>\n",
              "    <tr style=\"text-align: right;\">\n",
              "      <th></th>\n",
              "      <th>Model</th>\n",
              "      <th>Accuracy</th>\n",
              "      <th>F1 Score</th>\n",
              "    </tr>\n",
              "  </thead>\n",
              "  <tbody>\n",
              "    <tr>\n",
              "      <th>0</th>\n",
              "      <td>Random Forest</td>\n",
              "      <td>1.0</td>\n",
              "      <td>1.0</td>\n",
              "    </tr>\n",
              "    <tr>\n",
              "      <th>1</th>\n",
              "      <td>XGBoost</td>\n",
              "      <td>1.0</td>\n",
              "      <td>1.0</td>\n",
              "    </tr>\n",
              "    <tr>\n",
              "      <th>2</th>\n",
              "      <td>CatBoost</td>\n",
              "      <td>1.0</td>\n",
              "      <td>1.0</td>\n",
              "    </tr>\n",
              "  </tbody>\n",
              "</table>\n",
              "</div>"
            ],
            "text/plain": [
              "           Model  Accuracy  F1 Score\n",
              "0  Random Forest       1.0       1.0\n",
              "1        XGBoost       1.0       1.0\n",
              "2       CatBoost       1.0       1.0"
            ]
          },
          "execution_count": 123,
          "metadata": {},
          "output_type": "execute_result"
        }
      ],
      "source": [
        "df_results = pd.DataFrame({\n",
        "    'Model': ['Random Forest', 'XGBoost', 'CatBoost'],\n",
        "    'Accuracy': [accuracy_best, report_xgb['accuracy'], report_catboost['accuracy']],\n",
        "    'F1 Score': [f1_best, report_xgb['macro avg']['f1-score'], report_catboost['macro avg']['f1-score']]\n",
        "})\n",
        "df_results.sort_values(by='F1 Score', ascending=False, inplace=True)\n",
        "df_results.reset_index(drop=True, inplace=True)\n",
        "df_results"
      ]
    },
    {
      "cell_type": "markdown",
      "metadata": {},
      "source": [
        "Ketiga model menghasilkan akurasi yang sempurna."
      ]
    },
    {
      "cell_type": "markdown",
      "metadata": {
        "id": "ph9yIYDXEPuB"
      },
      "source": [
        "## **c. Tuning Model Klasifikasi (Opsional)**"
      ]
    },
    {
      "cell_type": "markdown",
      "metadata": {},
      "source": [
        "Model sudah menunjukkan performa yang sempurna sehingga tidak akan dilakukan *hyperparameter tuning*."
      ]
    },
    {
      "cell_type": "markdown",
      "metadata": {
        "id": "hE7pqlEPEYzI"
      },
      "source": [
        "## **d. Evaluasi Model Klasifikasi setelah Tuning (Optional)**"
      ]
    },
    {
      "cell_type": "markdown",
      "metadata": {},
      "source": [
        "Konsisten dengan poin (c)."
      ]
    },
    {
      "cell_type": "markdown",
      "metadata": {
        "id": "ZRsOdm4uEgAW"
      },
      "source": [
        "## **e. Analisis Hasil Evaluasi Model Klasifikasi**"
      ]
    },
    {
      "cell_type": "markdown",
      "metadata": {
        "id": "Hm3BhSi6N4_l"
      },
      "source": [
        "Perbandingan Hasil Evaluasi Sebelum dan Setelah Tuning:\n",
        "1. Dengan menggunakan GridSearchCV, berhasil dioptimalkan proses pembentukan model dan teknik penanganan class imbalance seperti SMOTE. Model terbaik berdasarkan F1-Score adalah K-Nearest Neighbor (KNN) dengan hasil yang sempurna di data latih dan data uji.\n",
        "2. F1-Score dan Akurasi pada data latih dan data uji menunjukkan 1.0 yang berarti model ini sangat baik dalam menangani dataset ini tanpa adanya kesalahan prediksi.\n",
        "\n",
        "Identifikasi Kelemahan Model:\n",
        "1. Model Perfect Performance: Dalam hal ini, terlihat adanya performa sempurna pada data latih dan data uji, yang bisa menunjukkan bahwa model overfit terhadap dataset ini. F1-Score dan Akurasi yang 1.0 pada kedua dataset bisa berarti bahwa model terlalu spesifik pada data yang ada dan mungkin tidak akan bekerja dengan baik pada data lain yang lebih beragam.\n",
        "\n",
        "Rekomendasi Tindakan Lanjutan:\n",
        "1. Validasi pada Data Baru: Meskipun model sudah sempurna pada data latih dan uji, penting untuk menguji model ini dengan data eksternal atau data baru yang lebih beragam untuk memastikan bahwa model tidak hanya menghafal pola yang ada dalam data latih. Hal ini bisa dilakukan dengan mengumpulkan lebih banyak data.\n",
        "2. Peningkatan Data Variasi: Untuk memastikan model dapat generalize dengan baik, tambahkan variasi dalam dataset dengan menggunakan data yang lebih bervariasi atau mengubah fitur-fitur dalam dataset untuk menciptakan tantangan yang lebih besar bagi model, agar model tidak hanya bekerja dengan baik pada data yang mirip dengan data latih.\n",
        "3. Penggunaan variabel asal atau non-reduksi: Untuk menangkap hubungan kompleks antarvariabel dengan cluster tanpa melalui reduksi dimensi."
      ]
    }
  ],
  "metadata": {
    "colab": {
      "provenance": []
    },
    "kernelspec": {
      "display_name": "Python 3",
      "name": "python3"
    },
    "language_info": {
      "codemirror_mode": {
        "name": "ipython",
        "version": 3
      },
      "file_extension": ".py",
      "mimetype": "text/x-python",
      "name": "python",
      "nbconvert_exporter": "python",
      "pygments_lexer": "ipython3",
      "version": "3.12.2"
    }
  },
  "nbformat": 4,
  "nbformat_minor": 0
}
